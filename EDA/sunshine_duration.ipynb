{
 "cells": [
  {
   "cell_type": "code",
   "execution_count": 5,
   "id": "a82940ef",
   "metadata": {},
   "outputs": [
    {
     "name": "stdout",
     "output_type": "stream",
     "text": [
      "         date  dawn  sunrise  noon  sunset  dusk  eod\n",
      "0  2020-01-01   473       43   227     226    44  427\n",
      "1  2020-01-02   473       43   227     228    43  426\n",
      "2  2020-01-03   473       43   228     228    43  425\n",
      "3  2020-01-04   472       44   228     229    43  424\n",
      "4  2020-01-05   472       43   229     230    43  423\n",
      "Exported dataframe\n",
      "366\n"
     ]
    }
   ],
   "source": [
    "#%%\n",
    "import datetime\n",
    "from astral.sun import sun\n",
    "from astral import LocationInfo\n",
    "import pandas as pd\n",
    "\n",
    "\n",
    "def get_minutes(d):\n",
    "    return d.hour * 60 + d.minute\n",
    "\n",
    "\n",
    "city_name = \"Hamburg\"\n",
    "\n",
    "city = LocationInfo(\"Hamburg\", \"Germany\", \"Europe/Berlin\", 53.551086, 9.993682)\n",
    "d1 = datetime.date(2020, 1, 1)\n",
    "d2 = datetime.date(2020, 12, 31)\n",
    "days = [d1 + datetime.timedelta(days=x) for x in range((d2 - d1).days + 1)]\n",
    "len(days)\n",
    "sunset = []\n",
    "for day in days:\n",
    "    s = sun(city.observer, date=day, tzinfo=city.timezone)\n",
    "\n",
    "    entry = {}\n",
    "    max = 24 * 60\n",
    "    entry[\"date\"] = day\n",
    "    entry[\"dawn\"] = get_minutes(s[\"dawn\"])\n",
    "    entry[\"sunrise\"] = get_minutes(s[\"sunrise\"]) - get_minutes(s[\"dawn\"])\n",
    "    entry[\"noon\"] = get_minutes(s[\"noon\"]) - get_minutes(s[\"sunrise\"])\n",
    "    entry[\"sunset\"] = get_minutes(s[\"sunset\"]) - get_minutes(s[\"noon\"])\n",
    "    entry[\"dusk\"] = get_minutes(s[\"dusk\"]) - get_minutes(s[\"sunset\"])\n",
    "    entry[\"eod\"] = max - get_minutes(s[\"dusk\"])\n",
    "\n",
    "    sunset.append(entry)\n",
    "\n",
    "    # print(day.strftime('%Y%m%d'))\n",
    "df = pd.DataFrame.from_dict(sunset)\n",
    "\n",
    "df.to_csv(f\"sunrise_{city_name}.csv\", index=False)\n",
    "\n",
    "print(df.head())\n",
    "print(\"Exported dataframe\")\n",
    "print(len(df))\n",
    "# %%"
   ]
  },
  {
   "cell_type": "code",
   "execution_count": null,
   "id": "7f3a5963",
   "metadata": {},
   "outputs": [],
   "source": []
  }
 ],
 "metadata": {
  "kernelspec": {
   "display_name": "Python 3",
   "language": "python",
   "name": "python3"
  },
  "language_info": {
   "codemirror_mode": {
    "name": "ipython",
    "version": 3
   },
   "file_extension": ".py",
   "mimetype": "text/x-python",
   "name": "python",
   "nbconvert_exporter": "python",
   "pygments_lexer": "ipython3",
   "version": "3.8.5"
  }
 },
 "nbformat": 4,
 "nbformat_minor": 5
}
